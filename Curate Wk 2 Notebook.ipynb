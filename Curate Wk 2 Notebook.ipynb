{
 "cells": [
  {
   "cell_type": "markdown",
   "metadata": {},
   "source": [
    "# Jason Curate #\n",
    "### Week 2 Assignment ###\n",
    "\n",
    "\n",
    "Two semesters ago, I took my first Python coding class at SPS. My coding experience prior to that was in the early 2000's, coding VBA for MS Access 2003 databases. I was self taught, and used a few books to find out how to do things as needed for work. I got a side project for a non-project and had to learn more on my own, through a lot of trial and error. Unfortunately I retained very little of that knowledge and experience!\n",
    "\n",
    "I was initially able to follow along and the simple code makes sense to me:\n",
    "\n",
    "> Print a message once the condition is false:\n",
    "\n",
    "> [https://www.w3schools.com/python/python_while_loops.asp]\n",
    "\n",
    "```python\n",
    "i = 1\n",
    "while i < 6:\n",
    "  print(i)\n",
    "  i += 1\n",
    "else:\n",
    "  print(\"i is no longer less than 6\")\n",
    "```"
   ]
  },
  {
   "cell_type": "code",
   "execution_count": 1,
   "metadata": {},
   "outputs": [
    {
     "name": "stdout",
     "output_type": "stream",
     "text": [
      "1\n",
      "2\n",
      "3\n",
      "4\n",
      "5\n",
      "i is no longer less than 6\n"
     ]
    }
   ],
   "source": [
    "i = 1\n",
    "while i < 6:\n",
    "  print(i)\n",
    "  i += 1\n",
    "else:\n",
    "  print(\"i is no longer less than 6\")\n"
   ]
  },
  {
   "cell_type": "markdown",
   "metadata": {},
   "source": [
    "I did ok with functions and passing in parameters:\n",
    "\n",
    "> Multiply variable a and optional variable b\n",
    "\n",
    "> https://www.thegeekstuff.com/2019/06/python-function-examples/\n",
    "\n",
    "```python\n",
    "def multiply(a, b=10):\n",
    "  return a*b\n",
    "print(multiply(10))\n",
    "print(multiply(33,2))\n",
    "```"
   ]
  },
  {
   "cell_type": "code",
   "execution_count": 2,
   "metadata": {},
   "outputs": [
    {
     "name": "stdout",
     "output_type": "stream",
     "text": [
      "100\n",
      "66\n"
     ]
    }
   ],
   "source": [
    "def multiply(a, b=10):\n",
    "  return a*b\n",
    "print(multiply(10))\n",
    "print(multiply(33,2))"
   ]
  },
  {
   "cell_type": "markdown",
   "metadata": {},
   "source": [
    "But I still have issues understanding Classes and references to self!\n",
    "\n",
    "> https://www.w3schools.com/python/python_classes.asp\n",
    "\n",
    "``` python\n",
    "class Person:\n",
    "  def __init__(self, name, age):\n",
    "    self.name = name\n",
    "    self.age = age\n",
    "\n",
    "p1 = Person(\"John\", 36)\n",
    "\n",
    "print(p1.name)\n",
    "print(p1.age)\n",
    "```"
   ]
  },
  {
   "cell_type": "code",
   "execution_count": 3,
   "metadata": {},
   "outputs": [
    {
     "name": "stdout",
     "output_type": "stream",
     "text": [
      "John\n",
      "36\n"
     ]
    }
   ],
   "source": [
    "class Person:\n",
    "  def __init__(self, name, age):\n",
    "    self.name = name\n",
    "    self.age = age\n",
    "\n",
    "p1 = Person(\"John\", 36)\n",
    "\n",
    "print(p1.name)\n",
    "print(p1.age)"
   ]
  },
  {
   "cell_type": "code",
   "execution_count": null,
   "metadata": {},
   "outputs": [],
   "source": []
  }
 ],
 "metadata": {
  "kernelspec": {
   "display_name": "Python 3",
   "language": "python",
   "name": "python3"
  },
  "language_info": {
   "codemirror_mode": {
    "name": "ipython",
    "version": 3
   },
   "file_extension": ".py",
   "mimetype": "text/x-python",
   "name": "python",
   "nbconvert_exporter": "python",
   "pygments_lexer": "ipython3",
   "version": "3.7.3"
  }
 },
 "nbformat": 4,
 "nbformat_minor": 2
}
